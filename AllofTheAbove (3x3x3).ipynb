{
 "cells": [
  {
   "cell_type": "code",
   "execution_count": 6,
   "metadata": {
    "ExecuteTime": {
     "end_time": "2019-11-16T05:41:21.088498Z",
     "start_time": "2019-11-16T05:41:21.083821Z"
    }
   },
   "outputs": [],
   "source": [
    "import pandas as pd\n",
    "import runs\n",
    "import numpy as np\n",
    "from pathlib import Path\n",
    "from IPython.display import IFrame\n",
    "import pandas as pd \n",
    "import os\n",
    "import shutil\n",
    "import datetime\n",
    "\n",
    "path = \"Resources/\""
   ]
  },
  {
   "cell_type": "code",
   "execution_count": 7,
   "metadata": {
    "ExecuteTime": {
     "end_time": "2019-11-16T05:41:21.687892Z",
     "start_time": "2019-11-16T05:41:21.678705Z"
    }
   },
   "outputs": [],
   "source": [
    "def save(contents,name):\n",
    "    f=open(path+name+\".js\",\"w+\")\n",
    "    f.write(contents)\n",
    "    f.close()\n",
    "\n",
    "    f=open(path+name+\".html\", \"w+\")\n",
    "    f.write('<script src=\"https://code.highcharts.com/highcharts.js\"></script>'+ \"\\n\")\n",
    "    f.write('<script src=\"https://code.highcharts.com/modules/series-label.js\"></script>'+ \"\\n\")\n",
    "    f.write('<script src=\"https://code.highcharts.com/modules/exporting.js\"></script>'+ \"\\n\")\n",
    "    f.write('<script src=\"https://code.highcharts.com/modules/export-data.js\"></script>'+ \"\\n\")\n",
    "    f.write('<script src=\"https://code.highcharts.com/modules/parallel-coordinates.js\"></script>'+ \"\\n\\n\")\n",
    "\n",
    "    f.write(\"<div id='container'></div>\"+ \"\\n\")\n",
    "    f.write(\"<script src='\"+name+\".js'></script>\")\n",
    "    f.close() "
   ]
  },
  {
   "cell_type": "code",
   "execution_count": 8,
   "metadata": {
    "ExecuteTime": {
     "end_time": "2019-11-16T05:41:22.297804Z",
     "start_time": "2019-11-16T05:41:22.283063Z"
    }
   },
   "outputs": [],
   "source": [
    "def map_rules(ds,vs,categ):\n",
    "    rule = {}\n",
    "    i = 0\n",
    "    for v in vs:\n",
    "        rule[v] = i\n",
    "        i += 1\n",
    "    ds[categ] = ds[categ].map(rule)\n",
    "    return ds\n",
    "\n",
    "def parser(r_pattern):\n",
    "    pat = r_pattern.split(\" \")\n",
    "    pattern = {\"name\": pat[0], \"operator\":pat[1], \"value\": pat[2]}\n",
    "    return pattern\n",
    "\n",
    "def multi_parser(r_patterns):\n",
    "    patterns = []\n",
    "    for pattern in r_patterns:\n",
    "        patterns.append(parser(pattern))\n",
    "    return patterns\n",
    "\n",
    "def dividePat(pattern):\n",
    "    ptrns = pattern.split(\" AND \")\n",
    "    rptr = []\n",
    "    for ptr in ptrns:\n",
    "        rptr.append(parser(ptr))\n",
    "    \n",
    "    return rptr,ptrns\n",
    "\n",
    "def query_pattern(options):\n",
    "    return \"{} {} {}\".format(options[\"name\"],options[\"operator\"],options[\"value\"])\n",
    "\n",
    "def n_query_pattern(options):\n",
    "    op = \"\"\n",
    "    if options[\"operator\"] == \"==\":\n",
    "        op = \"!=\"\n",
    "    else:\n",
    "        op = \"==\"\n",
    "    return \"{} {} {}\".format(options[\"name\"],op,options[\"value\"])"
   ]
  },
  {
   "cell_type": "code",
   "execution_count": 9,
   "metadata": {
    "ExecuteTime": {
     "end_time": "2019-11-16T05:41:23.133378Z",
     "start_time": "2019-11-16T05:41:23.118403Z"
    }
   },
   "outputs": [],
   "source": [
    "def run3y3(data,labels,categ,name,fname):    \n",
    "    contents = Path(path+\"template3y3.js\").read_text()\n",
    "    multis = \"{name: '#name#',data: #data#,shadow: false,},\"\n",
    "    \n",
    "    series = \"\"\n",
    "    for ind in range(len(data)):\n",
    "\n",
    "        d = data[ind]\n",
    "            \n",
    "        datastr = \"\"\n",
    "        datastr = multis.replace(\"#name#\",str(ind))\n",
    "        datastr = datastr.replace(\"#data#\",str(d.tolist()))\n",
    "        \n",
    "        series+= datastr\n",
    "    \n",
    "    contents = contents.replace(\"#series#\",series)\n",
    "    contents = contents.replace(\"#categ#\",str(categ))\n",
    "    contents = contents.replace(\"#classes#\",str(labels))\n",
    "    contents = contents.replace(\"#titulo#\",\"\"+name+\"\")\n",
    "    \n",
    "    save(contents,fname)\n",
    "    \n",
    "def ThreeCatThreeNum(patterns,dataset,name,fname):\n",
    "    \n",
    "    ptrns,fptrns = dividePat(patterns)\n",
    "    \n",
    "    # Numerical\n",
    "    options1 = ptrns[0]\n",
    "    options2 = ptrns[1]\n",
    "    options3 = ptrns[2]\n",
    "    \n",
    "    # Categories \n",
    "    categ1 = ptrns[3]\n",
    "    categ2 = ptrns[4]\n",
    "    categ3 = ptrns[5]\n",
    "        \n",
    "    ds = dataset[[options1[\"name\"],\n",
    "                    options2[\"name\"],\n",
    "                    options3[\"name\"],\n",
    "                    categ1[\"name\"],\n",
    "                    categ2[\"name\"],\n",
    "                    categ3[\"name\"],\n",
    "                    \"class\"]]\n",
    "    \n",
    "    clss = np.unique(ds[\"class\"]).tolist()\n",
    "    ds = map_rules(ds,clss,\"class\")\n",
    "    \n",
    "    vs1 = np.unique(ds[categ1[\"name\"]]).tolist()\n",
    "    ds = map_rules(ds,vs1,categ1[\"name\"])\n",
    "    \n",
    "    vs2 = np.unique(ds[categ2[\"name\"]]).tolist()\n",
    "    ds = map_rules(ds,vs2,categ2[\"name\"])\n",
    "    \n",
    "    vs3 = np.unique(ds[categ3[\"name\"]]).tolist()\n",
    "    ds = map_rules(ds,vs3,categ3[\"name\"])\n",
    "\n",
    "    return ds,fptrns,clss"
   ]
  },
  {
   "cell_type": "code",
   "execution_count": 10,
   "metadata": {
    "ExecuteTime": {
     "end_time": "2019-11-16T05:41:24.122911Z",
     "start_time": "2019-11-16T05:41:23.998895Z"
    }
   },
   "outputs": [],
   "source": [
    "dt3 = pd.read_csv(path+\"online_shoppers_intention.csv\") \n",
    "dt3 = dt3.rename(columns={\"Revenue\": \"class\"})\n",
    "data = dt3.iloc[:200,:]"
   ]
  },
  {
   "cell_type": "code",
   "execution_count": 11,
   "metadata": {
    "ExecuteTime": {
     "end_time": "2019-11-16T05:41:25.357394Z",
     "start_time": "2019-11-16T05:41:24.767027Z"
    }
   },
   "outputs": [
    {
     "name": "stderr",
     "output_type": "stream",
     "text": [
      "/Users/mackaber/anaconda3/lib/python3.6/site-packages/ipykernel_launcher.py:7: SettingWithCopyWarning: \n",
      "A value is trying to be set on a copy of a slice from a DataFrame.\n",
      "Try using .loc[row_indexer,col_indexer] = value instead\n",
      "\n",
      "See the caveats in the documentation: http://pandas.pydata.org/pandas-docs/stable/indexing.html#indexing-view-versus-copy\n",
      "  import sys\n"
     ]
    }
   ],
   "source": [
    "data,patterns,classes = ThreeCatThreeNum(\"BounceRates > 0.0 AND Administrative_Duration < 50 AND ProductRelated_Duration < 100 AND Month == Feb AND VisitorType == Returning_Visitor AND OperatingSystems == 1\",\n",
    "                 data,\"NumericalCategorical 4Item Binary\",\"AlloftheAbove\")"
   ]
  },
  {
   "cell_type": "code",
   "execution_count": 12,
   "metadata": {
    "ExecuteTime": {
     "end_time": "2019-11-16T05:41:25.730747Z",
     "start_time": "2019-11-16T05:41:25.700156Z"
    }
   },
   "outputs": [],
   "source": [
    "run3y3(data.values,classes,patterns,\"3 Cat y 3 Num\",\"AlloftheAbove\")"
   ]
  },
  {
   "cell_type": "code",
   "execution_count": 13,
   "metadata": {
    "ExecuteTime": {
     "end_time": "2019-11-16T05:41:27.416562Z",
     "start_time": "2019-11-16T05:41:27.400903Z"
    },
    "scrolled": false
   },
   "outputs": [
    {
     "data": {
      "text/html": [
       "\n",
       "        <iframe\n",
       "            width=\"650\"\n",
       "            height=\"650\"\n",
       "            src=\"Resources/AlloftheAbove.html\"\n",
       "            frameborder=\"0\"\n",
       "            allowfullscreen\n",
       "        ></iframe>\n",
       "        "
      ],
      "text/plain": [
       "<IPython.lib.display.IFrame at 0x112a365f8>"
      ]
     },
     "execution_count": 13,
     "metadata": {},
     "output_type": "execute_result"
    }
   ],
   "source": [
    "IFrame(src=path+'AlloftheAbove.html', width=650, height=650)"
   ]
  }
 ],
 "metadata": {
  "kernel_info": {
   "name": "python3"
  },
  "kernelspec": {
   "display_name": "Python 3",
   "language": "python",
   "name": "python3"
  },
  "language_info": {
   "codemirror_mode": {
    "name": "ipython",
    "version": 3
   },
   "file_extension": ".py",
   "mimetype": "text/x-python",
   "name": "python",
   "nbconvert_exporter": "python",
   "pygments_lexer": "ipython3",
   "version": "3.6.8"
  },
  "nteract": {
   "version": "0.12.3"
  },
  "toc": {
   "base_numbering": 1,
   "nav_menu": {},
   "number_sections": false,
   "sideBar": false,
   "skip_h1_title": false,
   "title_cell": "Table of Contents",
   "title_sidebar": "Contents",
   "toc_cell": false,
   "toc_position": {},
   "toc_section_display": false,
   "toc_window_display": false
  }
 },
 "nbformat": 4,
 "nbformat_minor": 2
}
