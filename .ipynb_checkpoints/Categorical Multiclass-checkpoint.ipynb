{
 "cells": [
  {
   "cell_type": "code",
   "execution_count": 52,
   "metadata": {
    "ExecuteTime": {
     "end_time": "2019-11-16T03:00:32.096653Z",
     "start_time": "2019-11-16T03:00:32.092496Z"
    },
    "hideCode": false,
    "hidePrompt": false
   },
   "outputs": [],
   "source": [
    "import pandas as pd\n",
    "import numpy as np\n",
    "from pathlib import Path\n",
    "from IPython.display import IFrame\n",
    "import pandas as pd \n",
    "import os\n",
    "import shutil\n",
    "import datetime\n",
    "\n",
    "path = \"Resources/\""
   ]
  },
  {
   "cell_type": "code",
   "execution_count": 53,
   "metadata": {
    "ExecuteTime": {
     "end_time": "2019-11-16T03:00:32.504561Z",
     "start_time": "2019-11-16T03:00:32.496142Z"
    }
   },
   "outputs": [],
   "source": [
    "def save(contents,name):\n",
    "    f=open(path+name+\".js\",\"w+\")\n",
    "    f.write(contents)\n",
    "    f.close()\n",
    "\n",
    "    f=open(path+name+\".html\", \"w+\")\n",
    "    f.write('<script src=\"https://code.highcharts.com/highcharts.js\"></script>'+ \"\\n\")\n",
    "    f.write('<script src=\"https://code.highcharts.com/modules/series-label.js\"></script>'+ \"\\n\")\n",
    "    f.write('<script src=\"https://code.highcharts.com/modules/exporting.js\"></script>'+ \"\\n\")\n",
    "    f.write('<script src=\"https://code.highcharts.com/modules/export-data.js\"></script>'+ \"\\n\")\n",
    "    f.write('<script src=\"https://code.highcharts.com/modules/sunburst.js\"></script>'+ \"\\n\\n\")\n",
    "\n",
    "    f.write(\"<div id='container'></div>\"+ \"\\n\")\n",
    "    f.write(\"<script src='\"+name+\".js'></script>\")\n",
    "    f.close() \n",
    "    \n",
    "def runTCat(data,title,fname):\n",
    "    contents = Path(path + \"templateCat.js\").read_text()\n",
    "    \n",
    "    contents = contents.replace(\"#data#\",str(data))\n",
    "    contents = contents.replace(\"#titulo#\",title)\n",
    "    \n",
    "    save(contents,fname)"
   ]
  },
  {
   "cell_type": "code",
   "execution_count": 54,
   "metadata": {
    "ExecuteTime": {
     "end_time": "2019-11-16T03:00:32.888281Z",
     "start_time": "2019-11-16T03:00:32.875668Z"
    },
    "hideCode": false,
    "hidePrompt": false,
    "scrolled": true
   },
   "outputs": [],
   "source": [
    "data = pd.read_csv(path + \"flags.arff.csv\")\n",
    "data = data.reset_index()\n",
    "dataset = data.rename(columns={\"animate\":\"class_name\"})"
   ]
  },
  {
   "cell_type": "code",
   "execution_count": 55,
   "metadata": {
    "ExecuteTime": {
     "end_time": "2019-11-16T03:00:33.291058Z",
     "start_time": "2019-11-16T03:00:33.281964Z"
    },
    "hideCode": false,
    "hidePrompt": false
   },
   "outputs": [],
   "source": [
    "def parser(r_pattern):\n",
    "    pat = r_pattern.split(\" \")\n",
    "    pattern = {\"name\": pat[0], \"operator\":pat[1], \"value\": pat[2]}\n",
    "    return pattern\n",
    "\n",
    "def multi_parser(r_patterns):\n",
    "    patterns = []\n",
    "    for pattern in r_patterns:\n",
    "        patterns.append(parser(pattern))\n",
    "    return patterns\n",
    "\n",
    "def dividepat(pattern):\n",
    "    ptrns = pattern.split(\" AND \")\n",
    "    rptr = []\n",
    "    for ptr in ptrns:\n",
    "        rptr.append(parser(ptr))\n",
    "    \n",
    "    return rptr,ptrns\n",
    "\n",
    "def query_pattern(options):\n",
    "    return \"{} {} {}\".format(options[\"name\"],options[\"operator\"],options[\"value\"])\n",
    "\n",
    "def n_query_pattern(options):\n",
    "    op = \"\"\n",
    "    if options[\"operator\"] == \"==\":\n",
    "        op = \"!=\"\n",
    "    else:\n",
    "        op = \"==\"\n",
    "    return \"{} {} {}\".format(options[\"name\"],op,options[\"value\"])"
   ]
  },
  {
   "cell_type": "code",
   "execution_count": 56,
   "metadata": {
    "ExecuteTime": {
     "end_time": "2019-11-16T03:00:33.684709Z",
     "start_time": "2019-11-16T03:00:33.676952Z"
    }
   },
   "outputs": [],
   "source": [
    "def leafs(dataset,total,parent,options,i,items): \n",
    "    ds1 = dataset.query(query_pattern(options[i]))\n",
    "    ds2 = dataset.query(n_query_pattern(options[i]))\n",
    "\n",
    "    v1 = len(ds1.index)/total\n",
    "    v2 = len(ds2.index)/total\n",
    "\n",
    "    id1 = \"{}.{}\".format(parent,'0')\n",
    "    id2 = \"{}.{}\".format(parent,'1')\n",
    "    \n",
    "    cvs = [\n",
    "            {\n",
    "          'id': id1,\n",
    "          'parent': parent,\n",
    "          'name': \"\".join(query_pattern(options[i])),\n",
    "          'value': v1\n",
    "        },{\n",
    "          'id': id2,\n",
    "          'parent': parent,\n",
    "          'name': \"\".join(n_query_pattern(options[i])),\n",
    "          'value': v2\n",
    "        }\n",
    "    ]\n",
    "    \n",
    "    if items > 1:\n",
    "        cvs = [*cvs, *leafs(ds1,total,id1,options,i + 1,items - 1), *leafs(ds2,total,id2,options,i + 1,items - 1)]\n",
    "    return cvs"
   ]
  },
  {
   "cell_type": "code",
   "execution_count": 57,
   "metadata": {
    "ExecuteTime": {
     "end_time": "2019-11-16T03:00:34.103646Z",
     "start_time": "2019-11-16T03:00:34.096906Z"
    }
   },
   "outputs": [],
   "source": [
    "def ItemCN(patterns, dataset, items):\n",
    "    options = dividepat(patterns)[0]\n",
    "        \n",
    "    classes = dataset[\"topleft\"].values\n",
    "    classvals = np.unique(classes).tolist()\n",
    "        \n",
    "    total = dataset.count()[0]\n",
    "    csv = [{'id':'0.0','parent':'', 'name': 'All'}] # Root\n",
    "    csv.append({'id':'1.0', 'parent':'0.0', 'name': \"blue\" })\n",
    "    csv.append({'id':'1.1', 'parent':'0.0', 'name': \"green\" })\n",
    "    csv.append({'id':'1.2', 'parent':'0.0', 'name': \"white\" })\n",
    "    \n",
    "    csv = csv + leafs(dataset,total,'1.0',options,0,items)\n",
    "    csv = csv + leafs(dataset,total,'1.1',options,0,items)\n",
    "    csv = csv + leafs(dataset,total,'1.2',options,0,items)\n",
    "    \n",
    "    return csv"
   ]
  },
  {
   "cell_type": "code",
   "execution_count": 58,
   "metadata": {
    "ExecuteTime": {
     "end_time": "2019-11-16T03:00:34.612842Z",
     "start_time": "2019-11-16T03:00:34.583736Z"
    }
   },
   "outputs": [
    {
     "data": {
      "text/html": [
       "\n",
       "        <iframe\n",
       "            width=\"650\"\n",
       "            height=\"650\"\n",
       "            src=\"Resources/OneItemCN.html\"\n",
       "            frameborder=\"0\"\n",
       "            allowfullscreen\n",
       "        ></iframe>\n",
       "        "
      ],
      "text/plain": [
       "<IPython.lib.display.IFrame at 0x1106d09e8>"
      ]
     },
     "execution_count": 58,
     "metadata": {},
     "output_type": "execute_result"
    }
   ],
   "source": [
    "def OneItemCM(patterns, dataset):\n",
    "    csv = ItemCB(patterns, dataset,1)\n",
    "    runTCat(csv,\"OneItemCM\",\"OneItemCM\")\n",
    "\n",
    "OneItemCM(\"religion == 2 \", dataset)\n",
    "IFrame(src=path+'OneItemCM.html', width=650, height=650)"
   ]
  },
  {
   "cell_type": "code",
   "execution_count": 48,
   "metadata": {
    "ExecuteTime": {
     "end_time": "2019-11-16T02:59:18.977092Z",
     "start_time": "2019-11-16T02:59:18.907512Z"
    }
   },
   "outputs": [
    {
     "data": {
      "text/html": [
       "\n",
       "        <iframe\n",
       "            width=\"650\"\n",
       "            height=\"650\"\n",
       "            src=\"Resources/TwoItemCN.html\"\n",
       "            frameborder=\"0\"\n",
       "            allowfullscreen\n",
       "        ></iframe>\n",
       "        "
      ],
      "text/plain": [
       "<IPython.lib.display.IFrame at 0x1105e2860>"
      ]
     },
     "execution_count": 48,
     "metadata": {},
     "output_type": "execute_result"
    }
   ],
   "source": [
    "def TwoItemCM(patterns, dataset):\n",
    "    csv = ItemCB(patterns, dataset,2)\n",
    "    runTCat(csv,\"TwoItemCM\",\"TwoItemCM\")\n",
    "\n",
    "TwoItemCM(\"religion == 2 AND language == 10\", dataset)\n",
    "IFrame(src=path+'TwoItemCM.html', width=650, height=650)"
   ]
  },
  {
   "cell_type": "code",
   "execution_count": 50,
   "metadata": {
    "ExecuteTime": {
     "end_time": "2019-11-16T02:59:37.755885Z",
     "start_time": "2019-11-16T02:59:37.283995Z"
    }
   },
   "outputs": [
    {
     "data": {
      "text/html": [
       "\n",
       "        <iframe\n",
       "            width=\"650\"\n",
       "            height=\"650\"\n",
       "            src=\"Resources/ThreeItemCN.html\"\n",
       "            frameborder=\"0\"\n",
       "            allowfullscreen\n",
       "        ></iframe>\n",
       "        "
      ],
      "text/plain": [
       "<IPython.lib.display.IFrame at 0x11069f3c8>"
      ]
     },
     "execution_count": 50,
     "metadata": {},
     "output_type": "execute_result"
    }
   ],
   "source": [
    "def ThreeItemCM(patterns, dataset):\n",
    "    csv = ItemCB(patterns, dataset,3)\n",
    "    runTCat(csv,\"ThreeItemCM\",\"ThreeItemCM\")\n",
    "\n",
    "ThreeItemCM(\"religion == 2 AND language == 10 AND stripes == 3\", dataset)\n",
    "IFrame(src=path+'ThreeItemCM.html', width=650, height=650)"
   ]
  },
  {
   "cell_type": "code",
   "execution_count": 51,
   "metadata": {
    "ExecuteTime": {
     "end_time": "2019-11-16T02:59:51.196027Z",
     "start_time": "2019-11-16T02:59:50.870826Z"
    }
   },
   "outputs": [
    {
     "data": {
      "text/html": [
       "\n",
       "        <iframe\n",
       "            width=\"650\"\n",
       "            height=\"650\"\n",
       "            src=\"Resources/FourItemCN.html\"\n",
       "            frameborder=\"0\"\n",
       "            allowfullscreen\n",
       "        ></iframe>\n",
       "        "
      ],
      "text/plain": [
       "<IPython.lib.display.IFrame at 0x11057f5f8>"
      ]
     },
     "execution_count": 51,
     "metadata": {},
     "output_type": "execute_result"
    }
   ],
   "source": [
    "def FourItemCM(patterns, dataset):\n",
    "    csv = ItemCB(patterns, dataset,4)\n",
    "    runTCat(csv,\"FourItemCM\",\"FourItemCM\")\n",
    "\n",
    "FourItemCM(\"religion == 2 AND language == 10 AND stripes == 3 AND sunstars == 1\", dataset)\n",
    "IFrame(src=path+'FourItemCM.html', width=650, height=650)"
   ]
  }
 ],
 "metadata": {
  "hide_code_all_hidden": false,
  "kernelspec": {
   "display_name": "Python 3",
   "language": "python",
   "name": "python3"
  },
  "language_info": {
   "codemirror_mode": {
    "name": "ipython",
    "version": 3
   },
   "file_extension": ".py",
   "mimetype": "text/x-python",
   "name": "python",
   "nbconvert_exporter": "python",
   "pygments_lexer": "ipython3",
   "version": "3.6.8"
  },
  "toc": {
   "base_numbering": 1,
   "nav_menu": {},
   "number_sections": false,
   "sideBar": false,
   "skip_h1_title": false,
   "title_cell": "Table of Contents",
   "title_sidebar": "Contents",
   "toc_cell": false,
   "toc_position": {},
   "toc_section_display": false,
   "toc_window_display": false
  }
 },
 "nbformat": 4,
 "nbformat_minor": 2
}
