{
 "cells": [
  {
   "cell_type": "code",
   "execution_count": 63,
   "metadata": {
    "ExecuteTime": {
     "end_time": "2019-11-16T02:55:25.129707Z",
     "start_time": "2019-11-16T02:55:25.124530Z"
    },
    "hideCode": false,
    "hidePrompt": false
   },
   "outputs": [],
   "source": [
    "import pandas as pd\n",
    "import numpy as np\n",
    "from pathlib import Path\n",
    "from IPython.display import IFrame\n",
    "import pandas as pd \n",
    "import os\n",
    "import shutil\n",
    "import datetime\n",
    "\n",
    "path = \"Resources/\""
   ]
  },
  {
   "cell_type": "code",
   "execution_count": 64,
   "metadata": {
    "ExecuteTime": {
     "end_time": "2019-11-16T02:55:25.426139Z",
     "start_time": "2019-11-16T02:55:25.419068Z"
    }
   },
   "outputs": [],
   "source": [
    "def save(contents,name):\n",
    "    f=open(path+name+\".js\",\"w+\")\n",
    "    f.write(contents)\n",
    "    f.close()\n",
    "\n",
    "    f=open(path+name+\".html\", \"w+\")\n",
    "    f.write('<script src=\"https://code.highcharts.com/highcharts.js\"></script>'+ \"\\n\")\n",
    "    f.write('<script src=\"https://code.highcharts.com/modules/series-label.js\"></script>'+ \"\\n\")\n",
    "    f.write('<script src=\"https://code.highcharts.com/modules/exporting.js\"></script>'+ \"\\n\")\n",
    "    f.write('<script src=\"https://code.highcharts.com/modules/export-data.js\"></script>'+ \"\\n\")\n",
    "    f.write('<script src=\"https://code.highcharts.com/modules/sunburst.js\"></script>'+ \"\\n\\n\")\n",
    "\n",
    "    f.write(\"<div id='container'></div>\"+ \"\\n\")\n",
    "    f.write(\"<script src='\"+name+\".js'></script>\")\n",
    "    f.close() \n",
    "    \n",
    "def runTCat(data,title,fname):\n",
    "    contents = Path(path + \"templateCat.js\").read_text()\n",
    "    \n",
    "    contents = contents.replace(\"#data#\",str(data))\n",
    "    contents = contents.replace(\"#titulo#\",title)\n",
    "    \n",
    "    save(contents,fname)"
   ]
  },
  {
   "cell_type": "code",
   "execution_count": 65,
   "metadata": {
    "ExecuteTime": {
     "end_time": "2019-11-16T02:55:25.755574Z",
     "start_time": "2019-11-16T02:55:25.744083Z"
    },
    "hideCode": false,
    "hidePrompt": false,
    "scrolled": true
   },
   "outputs": [],
   "source": [
    "data = pd.read_csv(path + \"flags.arff.csv\")\n",
    "data = data.reset_index()\n",
    "dataset = data.rename(columns={\"animate\":\"class_name\"})"
   ]
  },
  {
   "cell_type": "code",
   "execution_count": 66,
   "metadata": {
    "ExecuteTime": {
     "end_time": "2019-11-16T02:55:26.084342Z",
     "start_time": "2019-11-16T02:55:26.076958Z"
    },
    "hideCode": false,
    "hidePrompt": false
   },
   "outputs": [],
   "source": [
    "def parser(r_pattern):\n",
    "    pat = r_pattern.split(\" \")\n",
    "    pattern = {\"name\": pat[0], \"operator\":pat[1], \"value\": pat[2]}\n",
    "    return pattern\n",
    "\n",
    "def multi_parser(r_patterns):\n",
    "    patterns = []\n",
    "    for pattern in r_patterns:\n",
    "        patterns.append(parser(pattern))\n",
    "    return patterns\n",
    "\n",
    "def dividepat(pattern):\n",
    "    ptrns = pattern.split(\" AND \")\n",
    "    rptr = []\n",
    "    for ptr in ptrns:\n",
    "        rptr.append(parser(ptr))\n",
    "    \n",
    "    return rptr,ptrns\n",
    "\n",
    "def query_pattern(options):\n",
    "    return \"{} {} {}\".format(options[\"name\"],options[\"operator\"],options[\"value\"])\n",
    "\n",
    "def n_query_pattern(options):\n",
    "    op = \"\"\n",
    "    if options[\"operator\"] == \"==\":\n",
    "        op = \"!=\"\n",
    "    else:\n",
    "        op = \"==\"\n",
    "    return \"{} {} {}\".format(options[\"name\"],op,options[\"value\"])"
   ]
  },
  {
   "cell_type": "code",
   "execution_count": 67,
   "metadata": {
    "ExecuteTime": {
     "end_time": "2019-11-16T02:55:26.419783Z",
     "start_time": "2019-11-16T02:55:26.412064Z"
    }
   },
   "outputs": [],
   "source": [
    "def leafs(dataset,total,parent,options,i,items): \n",
    "    ds1 = dataset.query(query_pattern(options[i]))\n",
    "    ds2 = dataset.query(n_query_pattern(options[i]))\n",
    "\n",
    "    v1 = len(ds1.index)/total\n",
    "    v2 = len(ds2.index)/total\n",
    "\n",
    "    id1 = \"{}.{}\".format(parent,'0')\n",
    "    id2 = \"{}.{}\".format(parent,'1')\n",
    "    \n",
    "    cvs = [\n",
    "            {\n",
    "          'id': id1,\n",
    "          'parent': parent,\n",
    "          'name': \"\".join(query_pattern(options[i])),\n",
    "          'value': v1\n",
    "        },{\n",
    "          'id': id2,\n",
    "          'parent': parent,\n",
    "          'name': \"\".join(n_query_pattern(options[i])),\n",
    "          'value': v2\n",
    "        }\n",
    "    ]\n",
    "    \n",
    "    \n",
    "    if items > 1:\n",
    "        cvs = [*cvs, *leafs(ds1,total,id1,options,i + 1,items - 1), *leafs(ds2,total,id2,options,i + 1,items - 1)]\n",
    "    return cvs"
   ]
  },
  {
   "cell_type": "code",
   "execution_count": 68,
   "metadata": {
    "ExecuteTime": {
     "end_time": "2019-11-16T02:55:26.755684Z",
     "start_time": "2019-11-16T02:55:26.750413Z"
    }
   },
   "outputs": [],
   "source": [
    "def ItemCB(patterns, dataset, items):\n",
    "    options = dividepat(patterns)[0]\n",
    "        \n",
    "    classes = dataset[\"class_name\"].values\n",
    "    classvals = np.unique(classes).tolist()\n",
    "        \n",
    "    class_options = dividepat(\"class_name == 0\")[0][0]\n",
    "\n",
    "    total = dataset.count()[0]\n",
    "    csv = [{'id':'0.0','parent':'', 'name': 'All'}] # Root\n",
    "    csv.append({'id':'1.0', 'parent':'0.0', 'name': \"animated\" })\n",
    "    csv.append({'id':'1.1', 'parent':'0.0', 'name': \"not animated\" })\n",
    "    \n",
    "    csv = csv + leafs(dataset,total,'1.0',options,0,items)\n",
    "    csv = csv + leafs(dataset,total,'1.1',options,0,items)\n",
    "    return csv"
   ]
  },
  {
   "cell_type": "code",
   "execution_count": 69,
   "metadata": {
    "ExecuteTime": {
     "end_time": "2019-11-16T02:55:27.396649Z",
     "start_time": "2019-11-16T02:55:27.372059Z"
    },
    "scrolled": false
   },
   "outputs": [
    {
     "data": {
      "text/html": [
       "\n",
       "        <iframe\n",
       "            width=\"650\"\n",
       "            height=\"650\"\n",
       "            src=\"Resources/OneItemCB.html\"\n",
       "            frameborder=\"0\"\n",
       "            allowfullscreen\n",
       "        ></iframe>\n",
       "        "
      ],
      "text/plain": [
       "<IPython.lib.display.IFrame at 0x1123f19e8>"
      ]
     },
     "execution_count": 69,
     "metadata": {},
     "output_type": "execute_result"
    }
   ],
   "source": [
    "def OneItemCB(patterns, dataset):\n",
    "    csv = ItemCB(patterns, dataset,1)\n",
    "    runTCat(csv,\"OneItemCB\",\"OneItemCB\")\n",
    "\n",
    "OneItemCB(\"religion == 2 \", dataset)\n",
    "IFrame(src=path+'OneItemCB.html', width=650, height=650)"
   ]
  },
  {
   "cell_type": "code",
   "execution_count": 70,
   "metadata": {
    "ExecuteTime": {
     "end_time": "2019-11-16T02:55:29.793274Z",
     "start_time": "2019-11-16T02:55:29.675053Z"
    }
   },
   "outputs": [
    {
     "data": {
      "text/html": [
       "\n",
       "        <iframe\n",
       "            width=\"650\"\n",
       "            height=\"650\"\n",
       "            src=\"Resources/TwoItemCB.html\"\n",
       "            frameborder=\"0\"\n",
       "            allowfullscreen\n",
       "        ></iframe>\n",
       "        "
      ],
      "text/plain": [
       "<IPython.lib.display.IFrame at 0x1123acf28>"
      ]
     },
     "execution_count": 70,
     "metadata": {},
     "output_type": "execute_result"
    }
   ],
   "source": [
    "def TwoItemCB(patterns, dataset):\n",
    "    csv = ItemCB(patterns, dataset,2)\n",
    "    runTCat(csv,\"TwoItemCB\",\"TwoItemCB\")\n",
    "\n",
    "TwoItemCB(\"religion == 2 AND language == 10\", dataset)\n",
    "IFrame(src=path+'TwoItemCB.html', width=650, height=650)"
   ]
  },
  {
   "cell_type": "code",
   "execution_count": 71,
   "metadata": {
    "ExecuteTime": {
     "end_time": "2019-11-16T02:55:30.201592Z",
     "start_time": "2019-11-16T02:55:30.053912Z"
    }
   },
   "outputs": [
    {
     "data": {
      "text/html": [
       "\n",
       "        <iframe\n",
       "            width=\"650\"\n",
       "            height=\"650\"\n",
       "            src=\"Resources/ThreeItemCB.html\"\n",
       "            frameborder=\"0\"\n",
       "            allowfullscreen\n",
       "        ></iframe>\n",
       "        "
      ],
      "text/plain": [
       "<IPython.lib.display.IFrame at 0x112305f60>"
      ]
     },
     "execution_count": 71,
     "metadata": {},
     "output_type": "execute_result"
    }
   ],
   "source": [
    "def ThreeItemCB(patterns, dataset):\n",
    "    csv = ItemCB(patterns, dataset,3)\n",
    "    runTCat(csv,\"ThreeItemCB\",\"ThreeItemCB\")\n",
    "\n",
    "ThreeItemCB(\"religion == 2 AND language == 10 AND stripes == 3\", dataset)\n",
    "IFrame(src=path+'ThreeItemCB.html', width=650, height=650)"
   ]
  },
  {
   "cell_type": "code",
   "execution_count": 72,
   "metadata": {
    "ExecuteTime": {
     "end_time": "2019-11-16T02:55:30.751527Z",
     "start_time": "2019-11-16T02:55:30.448947Z"
    }
   },
   "outputs": [
    {
     "data": {
      "text/html": [
       "\n",
       "        <iframe\n",
       "            width=\"650\"\n",
       "            height=\"650\"\n",
       "            src=\"Resources/FourItemCB.html\"\n",
       "            frameborder=\"0\"\n",
       "            allowfullscreen\n",
       "        ></iframe>\n",
       "        "
      ],
      "text/plain": [
       "<IPython.lib.display.IFrame at 0x112376940>"
      ]
     },
     "execution_count": 72,
     "metadata": {},
     "output_type": "execute_result"
    }
   ],
   "source": [
    "def FourItemCB(patterns, dataset):\n",
    "    csv = ItemCB(patterns, dataset,4)\n",
    "    runTCat(csv,\"FourItemCB\",\"FourItemCB\")\n",
    "\n",
    "FourItemCB(\"religion == 2 AND language == 10 AND stripes == 3 AND sunstars == 1\", dataset)\n",
    "IFrame(src=path+'FourItemCB.html', width=650, height=650)"
   ]
  }
 ],
 "metadata": {
  "hide_code_all_hidden": false,
  "kernelspec": {
   "display_name": "Python 3",
   "language": "python",
   "name": "python3"
  },
  "language_info": {
   "codemirror_mode": {
    "name": "ipython",
    "version": 3
   },
   "file_extension": ".py",
   "mimetype": "text/x-python",
   "name": "python",
   "nbconvert_exporter": "python",
   "pygments_lexer": "ipython3",
   "version": "3.6.8"
  },
  "toc": {
   "base_numbering": 1,
   "nav_menu": {},
   "number_sections": false,
   "sideBar": false,
   "skip_h1_title": false,
   "title_cell": "Table of Contents",
   "title_sidebar": "Contents",
   "toc_cell": false,
   "toc_position": {},
   "toc_section_display": false,
   "toc_window_display": false
  }
 },
 "nbformat": 4,
 "nbformat_minor": 2
}
