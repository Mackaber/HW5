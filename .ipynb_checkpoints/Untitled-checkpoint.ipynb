{
 "cells": [
  {
   "cell_type": "code",
   "execution_count": 68,
   "metadata": {},
   "outputs": [],
   "source": [
    "import numpy as np\n",
    "from IPython.display import IFrame"
   ]
  },
  {
   "cell_type": "code",
   "execution_count": 69,
   "metadata": {},
   "outputs": [],
   "source": [
    "import os\n",
    "import shutil\n",
    "import datetime"
   ]
  },
  {
   "cell_type": "code",
   "execution_count": 11,
   "metadata": {},
   "outputs": [],
   "source": [
    "from pathlib import Path\n",
    "contents = Path(\"template1NB.js\").read_text()"
   ]
  },
  {
   "cell_type": "code",
   "execution_count": 84,
   "metadata": {},
   "outputs": [],
   "source": [
    "data = [\n",
    "[[0,7],[1,2]],\n",
    "[[0,5],[2,4]],\n",
    "[[0,4],[5,4]],\n",
    "]\n",
    "\n",
    "data2 = [\n",
    "[[0,7],[1,2]],\n",
    "[[0,5],[2,4]],\n",
    "[[0,4],[5,4]],\n",
    "[[1,0],[1,8]],\n",
    "]"
   ]
  },
  {
   "cell_type": "code",
   "execution_count": 85,
   "metadata": {},
   "outputs": [],
   "source": [
    "def runT1NB(data):\n",
    "    contents = Path(\"template1NB.js\").read_text()\n",
    "    \n",
    "    d0=np.array(data[0])\n",
    "    d1=np.array(data[1])\n",
    "    \n",
    "    min1x = d0[:,0].min()\n",
    "    minimx = d1[:,0].min()\n",
    "    if(min1x < minimx):\n",
    "        minimx = min1x\n",
    "        \n",
    "    max1x = d0[:,0].max()\n",
    "    maximx = d1[:,0].max()\n",
    "    if(max1x > maximx):\n",
    "        maximx = max1x\n",
    "    \n",
    "    min1y = d0[:,1].min()\n",
    "    minimy = d1[:,1].min()\n",
    "    if(min1y < minimy):\n",
    "        minimy = min1y\n",
    "    \n",
    "    contents = contents.replace(\"#minvalue#\",str(minimx))\n",
    "    contents = contents.replace(\"#maxvalue#\",str(maximx))\n",
    "    contents = contents.replace(\"#minyvalue#\",str(minimy))\n",
    "    \n",
    "    contents = contents.replace(\"#line#\",str(data[2]))\n",
    "    \n",
    "    contents = contents.replace(\"#data0#\",str(data[0]))\n",
    "    contents = contents.replace(\"#data1#\",str(data[1]))\n",
    "    \n",
    "    contents = contents.replace(\"#text#\",\"'Graph 1'\")\n",
    "    \n",
    "    f= open(\"test11.js\",\"w+\")\n",
    "    f.write(contents)\n",
    "    f.close()\n",
    "    shutil.copy(\"test.html\",\"test11.html\")\n",
    "    f=open(\"test11.html\", \"a+\")\n",
    "    f.write(\"<script src='test11.js'></script>\")\n",
    "    f.close() \n",
    "    \n",
    "runT1NB(data)"
   ]
  },
  {
   "cell_type": "code",
   "execution_count": 86,
   "metadata": {},
   "outputs": [],
   "source": [
    "def runT2NB(data):\n",
    "    contents = Path(\"template2NB.js\").read_text()\n",
    "    \n",
    "    d0=np.array(data[0])\n",
    "    d1=np.array(data[1])\n",
    "    \n",
    "    min1x = d0[:,0].min()\n",
    "    minimx = d1[:,0].min()\n",
    "    if(min1x < minimx):\n",
    "        minimx = min1x\n",
    "        \n",
    "    max1x = d0[:,0].max()\n",
    "    maximx = d1[:,0].max()\n",
    "    if(max1x > maximx):\n",
    "        maximx = max1x\n",
    "    \n",
    "    min1y = d0[:,1].min()\n",
    "    minimy = d1[:,1].min()\n",
    "    if(min1y < minimy):\n",
    "        minimy = min1y\n",
    "    \n",
    "    contents = contents.replace(\"#minvalue#\",str(minimx))\n",
    "    contents = contents.replace(\"#maxvalue#\",str(maximx))\n",
    "    contents = contents.replace(\"#minyvalue#\",str(minimy))\n",
    "    \n",
    "    contents = contents.replace(\"#line0#\",str(data[2]))\n",
    "    contents = contents.replace(\"#line1#\",str(data[3]))\n",
    "    \n",
    "    contents = contents.replace(\"#data0#\",str(data[0]))\n",
    "    contents = contents.replace(\"#data1#\",str(data[1]))\n",
    "    \n",
    "    contents = contents.replace(\"#text#\",\"'Graph 1'\")\n",
    "    \n",
    "    f= open(\"test12.js\",\"w+\")\n",
    "    f.write(contents)\n",
    "    f.close()\n",
    "    shutil.copy(\"test.html\",\"test12.html\")\n",
    "    f=open(\"test12.html\", \"a+\")\n",
    "    f.write(\"<script src='test12.js'></script>\")\n",
    "    f.close()\n",
    "\n",
    "runT2NB(data2)"
   ]
  },
  {
   "cell_type": "code",
   "execution_count": 109,
   "metadata": {},
   "outputs": [],
   "source": [
    "data3 = [\n",
    "[[0,7,0.9],[1,2,0.5]],\n",
    "[[0,5,0.3],[2,4,0.4]],\n",
    "[[0,4],[5,4]],\n",
    "[[1,0],[1,8]],\n",
    "]\n",
    "def runT3NB(data):\n",
    "    contents = Path(\"template3NB.js\").read_text()\n",
    "    \n",
    "    d0=np.array(data[0])\n",
    "    d1=np.array(data[1])\n",
    "    \n",
    "    min1x = d0[:,0].min()\n",
    "    minimx = d1[:,0].min()\n",
    "    if(min1x < minimx):\n",
    "        minimx = min1x\n",
    "        \n",
    "    max1x = d0[:,0].max()\n",
    "    maximx = d1[:,0].max()\n",
    "    if(max1x > maximx):\n",
    "        maximx = max1x\n",
    "    \n",
    "    min1y = d0[:,1].min()\n",
    "    minimy = d1[:,1].min()\n",
    "    if(min1y < minimy):\n",
    "        minimy = min1y\n",
    "    \n",
    "    contents = contents.replace(\"#minvalue#\",str(minimx))\n",
    "    contents = contents.replace(\"#maxvalue#\",str(maximx))\n",
    "    contents = contents.replace(\"#minyvalue#\",str(minimy))\n",
    "    \n",
    "    contents = contents.replace(\"#line0#\",str(data[2]))\n",
    "    contents = contents.replace(\"#line1#\",str(data[3]))\n",
    "    \n",
    "    data0str = \"\"\n",
    "    data1str = \"\"\n",
    "    for dt in data[0]:\n",
    "        data0str += \"{x: \"+str(dt[0])+\",y: \"+str(dt[1])+\", marker: {radius: 4,fillColor: {radialGradient: {cx: 0.5,cy: 0.3,r: 0.9},stops: [[0, Highcharts.getOptions().colors[0]],[1, Highcharts.Color(Highcharts.getOptions().colors[0]).brighten(-\"+str(dt[2])+\").get('rgb')]]}},},\"\n",
    "    \n",
    "    for dt in data[1]:\n",
    "        data1str += \"{x: \"+str(dt[0])+\",y: \"+str(dt[1])+\", marker: {radius: 4,fillColor: {radialGradient: {cx: 0.5,cy: 0.3,r: 0.9},stops: [[0, Highcharts.getOptions().colors[1]],[1, Highcharts.Color(Highcharts.getOptions().colors[1]).brighten(-\"+str(dt[2])+\").get('rgb')]]}},},\"\n",
    "    contents = contents.replace(\"#data0#,\",\"[\"+data0str+\"],\")\n",
    "    contents = contents.replace(\"#data1#,\",\"[\"+data1str+\"],\")\n",
    "    \n",
    "    contents = contents.replace(\"#text#\",\"'Graph 1'\")\n",
    "    \n",
    "    f= open(\"test13.js\",\"w+\")\n",
    "    f.write(contents)\n",
    "    f.close()\n",
    "    shutil.copy(\"test.html\",\"test13.html\")\n",
    "    f=open(\"test13.html\", \"a+\")\n",
    "    f.write(\"<script src='test13.js'></script>\")\n",
    "    f.close()\n",
    "\n",
    "runT3NB(data3)"
   ]
  },
  {
   "cell_type": "code",
   "execution_count": 110,
   "metadata": {},
   "outputs": [
    {
     "data": {
      "text/html": [
       "\n",
       "        <iframe\n",
       "            width=\"700\"\n",
       "            height=\"600\"\n",
       "            src=\"test13.html\"\n",
       "            frameborder=\"0\"\n",
       "            allowfullscreen\n",
       "        ></iframe>\n",
       "        "
      ],
      "text/plain": [
       "<IPython.lib.display.IFrame at 0x1032b9048>"
      ]
     },
     "execution_count": 110,
     "metadata": {},
     "output_type": "execute_result"
    }
   ],
   "source": [
    "IFrame(src='test13.html', width=700, height=600)"
   ]
  },
  {
   "cell_type": "code",
   "execution_count": null,
   "metadata": {},
   "outputs": [],
   "source": []
  }
 ],
 "metadata": {
  "kernelspec": {
   "display_name": "Python 3",
   "language": "python",
   "name": "python3"
  },
  "language_info": {
   "codemirror_mode": {
    "name": "ipython",
    "version": 3
   },
   "file_extension": ".py",
   "mimetype": "text/x-python",
   "name": "python",
   "nbconvert_exporter": "python",
   "pygments_lexer": "ipython3",
   "version": "3.6.5"
  }
 },
 "nbformat": 4,
 "nbformat_minor": 2
}
