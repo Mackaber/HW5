{
 "cells": [
  {
   "cell_type": "code",
   "execution_count": 1,
   "metadata": {
    "ExecuteTime": {
     "end_time": "2019-11-16T02:20:07.801969Z",
     "start_time": "2019-11-16T02:20:07.738079Z"
    }
   },
   "outputs": [],
   "source": [
    "import numpy as np\n",
    "from IPython.display import IFrame\n",
    "import pandas as pd \n",
    "import os\n",
    "import shutil\n",
    "import datetime\n",
    "from pathlib import Path\n",
    "import catNum\n",
    "\n",
    "path = \"Resources/\"\n",
    "dataset = pd.read_csv(path+\"dataset.csv\") "
   ]
  },
  {
   "cell_type": "code",
   "execution_count": 3,
   "metadata": {
    "ExecuteTime": {
     "end_time": "2019-11-16T02:20:13.439929Z",
     "start_time": "2019-11-16T02:20:13.424755Z"
    }
   },
   "outputs": [
    {
     "data": {
      "text/html": [
       "\n",
       "        <iframe\n",
       "            width=\"1000\"\n",
       "            height=\"450\"\n",
       "            src=\"Resources/n1Ib.html\"\n",
       "            frameborder=\"0\"\n",
       "            allowfullscreen\n",
       "        ></iframe>\n",
       "        "
      ],
      "text/plain": [
       "<IPython.lib.display.IFrame at 0x1093cb6a0>"
      ]
     },
     "execution_count": 3,
     "metadata": {},
     "output_type": "execute_result"
    }
   ],
   "source": [
    "catNum.oneItemNB(\"cites_count.L5Y.median <= 89261.75\",dataset,\"Numerical 1Item Binary\", 'n1Ib')\n",
    "IFrame(src=path+'n1Ib.html', width=1000, height=450)"
   ]
  },
  {
   "cell_type": "code",
   "execution_count": 4,
   "metadata": {
    "ExecuteTime": {
     "end_time": "2019-11-16T02:20:24.269317Z",
     "start_time": "2019-11-16T02:20:24.247277Z"
    }
   },
   "outputs": [
    {
     "name": "stdout",
     "output_type": "stream",
     "text": [
      "{'name': 'sponsor_total.L5Y.mean', 'operator': '<=', 'value': '1886.67'}\n"
     ]
    },
    {
     "data": {
      "text/html": [
       "\n",
       "        <iframe\n",
       "            width=\"1000\"\n",
       "            height=\"450\"\n",
       "            src=\"Resources/n2Ib.html\"\n",
       "            frameborder=\"0\"\n",
       "            allowfullscreen\n",
       "        ></iframe>\n",
       "        "
      ],
      "text/plain": [
       "<IPython.lib.display.IFrame at 0x10e649ba8>"
      ]
     },
     "execution_count": 4,
     "metadata": {},
     "output_type": "execute_result"
    }
   ],
   "source": [
    "catNum.twoItemNB(\"cites_count.speed.median <= 38460.00 AND sponsor_total.L5Y.mean <= 1886.67\",dataset,\"Numerical 2Item Binary\", 'n2Ib')\n",
    "IFrame(src=path+'n2Ib.html', width=1000, height=450)"
   ]
  },
  {
   "cell_type": "code",
   "execution_count": 5,
   "metadata": {
    "ExecuteTime": {
     "end_time": "2019-11-16T02:20:30.572294Z",
     "start_time": "2019-11-16T02:20:30.546715Z"
    }
   },
   "outputs": [
    {
     "data": {
      "text/html": [
       "\n",
       "        <iframe\n",
       "            width=\"1000\"\n",
       "            height=\"450\"\n",
       "            src=\"Resources/n3Ib.html\"\n",
       "            frameborder=\"0\"\n",
       "            allowfullscreen\n",
       "        ></iframe>\n",
       "        "
      ],
      "text/plain": [
       "<IPython.lib.display.IFrame at 0x10e649d68>"
      ]
     },
     "execution_count": 5,
     "metadata": {},
     "output_type": "execute_result"
    }
   ],
   "source": [
    "catNum.threeItemNB(\"sponsor_total.L5Y.mean <= 1886.67 AND cites_count.speed.median <= 38429.50 AND conf_count.acc.std <= 387.46\",dataset,\"Numerical 3Item Binary\", 'n3Ib')\n",
    "IFrame(src=path+'n3Ib.html', width=1000, height=450)"
   ]
  },
  {
   "cell_type": "code",
   "execution_count": 6,
   "metadata": {
    "ExecuteTime": {
     "end_time": "2019-11-16T02:20:36.860725Z",
     "start_time": "2019-11-16T02:20:36.833939Z"
    }
   },
   "outputs": [
    {
     "data": {
      "text/html": [
       "\n",
       "        <iframe\n",
       "            width=\"1000\"\n",
       "            height=\"450\"\n",
       "            src=\"Resources/n4Ib.html\"\n",
       "            frameborder=\"0\"\n",
       "            allowfullscreen\n",
       "        ></iframe>\n",
       "        "
      ],
      "text/plain": [
       "<IPython.lib.display.IFrame at 0x10e649d30>"
      ]
     },
     "execution_count": 6,
     "metadata": {},
     "output_type": "execute_result"
    }
   ],
   "source": [
    "catNum.fourItemNB(\"access_open_count.L5Y.mean <= 2276.92 AND cites_count.speed.median <= 38460.00 AND cites_count.currentYear <= 4474.00 AND conf_count.L5Y.std <= 446.34\",dataset,\"Numerical 4Item Binary\", 'n4Ib')\n",
    "IFrame(src=path+'n4Ib.html', width=1000, height=450)"
   ]
  },
  {
   "cell_type": "code",
   "execution_count": 8,
   "metadata": {
    "ExecuteTime": {
     "end_time": "2019-11-16T02:20:53.286567Z",
     "start_time": "2019-11-16T02:20:53.276766Z"
    }
   },
   "outputs": [],
   "source": [
    "dtIris = pd.read_csv(path+\"IRIS.csv\") \n",
    "dtIris = dtIris.rename(columns={\"species\": \"class\"})"
   ]
  },
  {
   "cell_type": "code",
   "execution_count": 9,
   "metadata": {
    "ExecuteTime": {
     "end_time": "2019-11-16T02:20:53.926737Z",
     "start_time": "2019-11-16T02:20:53.911892Z"
    }
   },
   "outputs": [
    {
     "data": {
      "text/html": [
       "\n",
       "        <iframe\n",
       "            width=\"1000\"\n",
       "            height=\"450\"\n",
       "            src=\"Resources/nm1.html\"\n",
       "            frameborder=\"0\"\n",
       "            allowfullscreen\n",
       "        ></iframe>\n",
       "        "
      ],
      "text/plain": [
       "<IPython.lib.display.IFrame at 0x10b58a0b8>"
      ]
     },
     "execution_count": 9,
     "metadata": {},
     "output_type": "execute_result"
    }
   ],
   "source": [
    "catNum.oneItemNB(\"sepal_length >= 5.6\",dtIris,\"Numerical 1Item Multiclass\",\"nm1\")\n",
    "IFrame(src=path+'nm1.html', width=1000, height=450)"
   ]
  },
  {
   "cell_type": "code",
   "execution_count": 10,
   "metadata": {
    "ExecuteTime": {
     "end_time": "2019-11-16T02:20:58.702357Z",
     "start_time": "2019-11-16T02:20:58.685831Z"
    }
   },
   "outputs": [
    {
     "name": "stdout",
     "output_type": "stream",
     "text": [
      "{'name': 'sepal_width', 'operator': '>=', 'value': '2.3'}\n"
     ]
    },
    {
     "data": {
      "text/html": [
       "\n",
       "        <iframe\n",
       "            width=\"1000\"\n",
       "            height=\"450\"\n",
       "            src=\"Resources/nm2.html\"\n",
       "            frameborder=\"0\"\n",
       "            allowfullscreen\n",
       "        ></iframe>\n",
       "        "
      ],
      "text/plain": [
       "<IPython.lib.display.IFrame at 0x10b58a588>"
      ]
     },
     "execution_count": 10,
     "metadata": {},
     "output_type": "execute_result"
    }
   ],
   "source": [
    "catNum.twoItemNB(\"sepal_length >= 5.6 AND sepal_width >= 2.3\",dtIris,\"Numerical 2Item Multiclass\",\"nm2\")\n",
    "IFrame(src=path+'nm2.html', width=1000, height=450)"
   ]
  },
  {
   "cell_type": "code",
   "execution_count": 11,
   "metadata": {
    "ExecuteTime": {
     "end_time": "2019-11-16T02:21:03.372559Z",
     "start_time": "2019-11-16T02:21:03.356266Z"
    }
   },
   "outputs": [
    {
     "data": {
      "text/html": [
       "\n",
       "        <iframe\n",
       "            width=\"1000\"\n",
       "            height=\"450\"\n",
       "            src=\"Resources/nm3.html\"\n",
       "            frameborder=\"0\"\n",
       "            allowfullscreen\n",
       "        ></iframe>\n",
       "        "
      ],
      "text/plain": [
       "<IPython.lib.display.IFrame at 0x10b58a5c0>"
      ]
     },
     "execution_count": 11,
     "metadata": {},
     "output_type": "execute_result"
    }
   ],
   "source": [
    "catNum.threeItemNB(\"sepal_length >= 5.6 AND sepal_width >= 2.3 AND petal_length >= 1.0\",dtIris,\"Numerical 3Item Multiclass\",\"nm3\")\n",
    "IFrame(src=path+'nm3.html', width=1000, height=450)"
   ]
  },
  {
   "cell_type": "code",
   "execution_count": 12,
   "metadata": {
    "ExecuteTime": {
     "end_time": "2019-11-16T02:21:07.688326Z",
     "start_time": "2019-11-16T02:21:07.663181Z"
    }
   },
   "outputs": [
    {
     "data": {
      "text/html": [
       "\n",
       "        <iframe\n",
       "            width=\"1000\"\n",
       "            height=\"450\"\n",
       "            src=\"Resources/nm4.html\"\n",
       "            frameborder=\"0\"\n",
       "            allowfullscreen\n",
       "        ></iframe>\n",
       "        "
      ],
      "text/plain": [
       "<IPython.lib.display.IFrame at 0x10b58a710>"
      ]
     },
     "execution_count": 12,
     "metadata": {},
     "output_type": "execute_result"
    }
   ],
   "source": [
    "catNum.fourItemNB(\"sepal_length >= 5.6 AND sepal_width >= 2.3 AND petal_length >= 1.0 AND petal_width >= 0.4\",dtIris,\"Numerical 4Item Multiclass\",\"nm4\")\n",
    "IFrame(src=path+'nm4.html', width=1000, height=450)"
   ]
  },
  {
   "cell_type": "code",
   "execution_count": 13,
   "metadata": {
    "ExecuteTime": {
     "end_time": "2019-11-16T02:21:17.195996Z",
     "start_time": "2019-11-16T02:21:17.122021Z"
    }
   },
   "outputs": [],
   "source": [
    "dt3 = pd.read_csv(path+\"online_shoppers_intention.csv\") \n",
    "dt3 = dt3.rename(columns={\"Revenue\": \"class\"})\n",
    "dt3 = dt3.iloc[:200,:]\n",
    "#dt3"
   ]
  },
  {
   "cell_type": "code",
   "execution_count": 15,
   "metadata": {
    "ExecuteTime": {
     "end_time": "2019-11-16T02:21:26.406925Z",
     "start_time": "2019-11-16T02:21:26.388930Z"
    }
   },
   "outputs": [
    {
     "name": "stdout",
     "output_type": "stream",
     "text": [
      "['BounceRates > 0.0', 'Month == Feb']\n"
     ]
    },
    {
     "data": {
      "text/html": [
       "\n",
       "        <iframe\n",
       "            width=\"1000\"\n",
       "            height=\"450\"\n",
       "            src=\"Resources/nc1.html\"\n",
       "            frameborder=\"0\"\n",
       "            allowfullscreen\n",
       "        ></iframe>\n",
       "        "
      ],
      "text/plain": [
       "<IPython.lib.display.IFrame at 0x10b58af60>"
      ]
     },
     "execution_count": 15,
     "metadata": {},
     "output_type": "execute_result"
    }
   ],
   "source": [
    "catNum.oneItemCatNum(\"BounceRates > 0.0 AND Month == Feb\",dt3,\"NumericalCategorical 1Item Binary\",\"nc1\")\n",
    "IFrame(src=path+'nc1.html', width=1000, height=450)"
   ]
  },
  {
   "cell_type": "code",
   "execution_count": 16,
   "metadata": {
    "ExecuteTime": {
     "end_time": "2019-11-16T02:21:29.989378Z",
     "start_time": "2019-11-16T02:21:29.963044Z"
    }
   },
   "outputs": [
    {
     "data": {
      "text/html": [
       "\n",
       "        <iframe\n",
       "            width=\"1000\"\n",
       "            height=\"450\"\n",
       "            src=\"Resources/nc2.html\"\n",
       "            frameborder=\"0\"\n",
       "            allowfullscreen\n",
       "        ></iframe>\n",
       "        "
      ],
      "text/plain": [
       "<IPython.lib.display.IFrame at 0x10e6ad9b0>"
      ]
     },
     "execution_count": 16,
     "metadata": {},
     "output_type": "execute_result"
    }
   ],
   "source": [
    "catNum.twoItemCatNum(\"BounceRates > 0.0 AND Administrative_Duration < 50 AND Month == Feb\",dt3,\"NumericalCategorical 2Item Binary\",\"nc2\")\n",
    "IFrame(src=path+'nc2.html', width=1000, height=450)"
   ]
  },
  {
   "cell_type": "code",
   "execution_count": 17,
   "metadata": {
    "ExecuteTime": {
     "end_time": "2019-11-16T02:21:33.938958Z",
     "start_time": "2019-11-16T02:21:33.915238Z"
    }
   },
   "outputs": [
    {
     "data": {
      "text/html": [
       "\n",
       "        <iframe\n",
       "            width=\"1000\"\n",
       "            height=\"450\"\n",
       "            src=\"Resources/nc3.html\"\n",
       "            frameborder=\"0\"\n",
       "            allowfullscreen\n",
       "        ></iframe>\n",
       "        "
      ],
      "text/plain": [
       "<IPython.lib.display.IFrame at 0x10b58a860>"
      ]
     },
     "execution_count": 17,
     "metadata": {},
     "output_type": "execute_result"
    }
   ],
   "source": [
    "catNum.threeItemCatNum(\"BounceRates > 0.0 AND Administrative_Duration < 50 AND ProductRelated_Duration < 100 AND Month == Feb\",dt3,\"NumericalCategorical 3Item Binary\",\"nc3\")\n",
    "IFrame(src=path+'nc3.html', width=1000, height=450)"
   ]
  },
  {
   "cell_type": "code",
   "execution_count": 18,
   "metadata": {
    "ExecuteTime": {
     "end_time": "2019-11-16T02:21:39.891673Z",
     "start_time": "2019-11-16T02:21:39.858883Z"
    }
   },
   "outputs": [
    {
     "data": {
      "text/html": [
       "\n",
       "        <iframe\n",
       "            width=\"1000\"\n",
       "            height=\"450\"\n",
       "            src=\"Resources/nc4.html\"\n",
       "            frameborder=\"0\"\n",
       "            allowfullscreen\n",
       "        ></iframe>\n",
       "        "
      ],
      "text/plain": [
       "<IPython.lib.display.IFrame at 0x10b58ae80>"
      ]
     },
     "execution_count": 18,
     "metadata": {},
     "output_type": "execute_result"
    }
   ],
   "source": [
    "catNum.fourItemCatNum(\"BounceRates > 0.0 AND Administrative_Duration < 50 AND ProductRelated_Duration < 100 AND BounceRates > 0 AND Month == Feb\",dt3,\"NumericalCategorical 4Item Binary\",\"nc4\")\n",
    "IFrame(src=path+'nc4.html', width=1000, height=450)"
   ]
  }
 ],
 "metadata": {
  "kernelspec": {
   "display_name": "Python 3",
   "language": "python",
   "name": "python3"
  },
  "language_info": {
   "codemirror_mode": {
    "name": "ipython",
    "version": 3
   },
   "file_extension": ".py",
   "mimetype": "text/x-python",
   "name": "python",
   "nbconvert_exporter": "python",
   "pygments_lexer": "ipython3",
   "version": "3.6.8"
  },
  "toc": {
   "base_numbering": 1,
   "nav_menu": {},
   "number_sections": false,
   "sideBar": false,
   "skip_h1_title": false,
   "title_cell": "Table of Contents",
   "title_sidebar": "Contents",
   "toc_cell": false,
   "toc_position": {},
   "toc_section_display": false,
   "toc_window_display": false
  }
 },
 "nbformat": 4,
 "nbformat_minor": 2
}
